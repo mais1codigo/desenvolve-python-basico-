{
 "cells": [
  {
   "cell_type": "markdown",
   "id": "0d5035b5",
   "metadata": {},
   "source": [
    "# Tupla\n",
    "\n",
    "## Aula 8.2"
   ]
  },
  {
   "cell_type": "markdown",
   "id": "0bdece85",
   "metadata": {},
   "source": [
    "### Q1. \n",
    "\n",
    "Escreva uma função ```calcula_area_perimetro``` que recebe **apenas um parâmetro** ```dimensoes``` e calcula a área e o perímetro a partir das dimensões dadas. \n",
    "- ```dimensoes``` é uma tupla (largura, comprimento) com as dimensões de um terreno retangular\n",
    "- Sua função deve calcular e retornar as seguintes operações\n",
    "   - $area = largura \\times comprimento$\n",
    "   - $perimetro = 2\\times(largura + comprimento)$\n"
   ]
  },
  {
   "cell_type": "code",
   "execution_count": null,
   "id": "0a258eba",
   "metadata": {},
   "outputs": [],
   "source": [
    "# Implemente aqui a função calcula_area_perimetro\n",
    "\n",
    "def calcula_area_perimetro(dimensoes):\n",
    "    largura, comprimento = dimensoes\n",
    "    area = largura * comprimento\n",
    "    perimetro = 2 * (largura + comprimento)\n",
    "    return area, perimetro\n",
    "\n"
   ]
  },
  {
   "cell_type": "code",
   "execution_count": null,
   "id": "e1866c04",
   "metadata": {},
   "outputs": [],
   "source": [
    "# Complete o exemplo de uso abaixo\n",
    "\n",
    "largura = 5\n",
    "comprimento = 7\n",
    "retorno = calcula_area_perimetro((largura, comprimento))\n",
    "print(retorno, type(retorno))  # Saída: (35, 24) <class 'tuple'>"
   ]
  },
  {
   "cell_type": "markdown",
   "id": "cbdcb986",
   "metadata": {},
   "source": [
    "### Q2.\n",
    "\n",
    "Dada uma string, imprima todas as vogais que aparecem na string, bem como todos os índices onde elas ocorrem. Para isso, use a função ```enumerate```.\n"
   ]
  },
  {
   "cell_type": "code",
   "execution_count": null,
   "id": "1f6b1f2d",
   "metadata": {},
   "outputs": [],
   "source": [
    "frase = \"O rato roeu a roupa da Alice\"\n",
    "\n",
    "# Implemente aqui sua solução\n",
    "\n",
    "vogais = \"aeiouAEIOU\"\n",
    "\n",
    "# Usando enumerate para encontrar as vogais e seus índices\n",
    "for indice, letra in enumerate(frase):\n",
    "    if letra in vogais:\n",
    "        print(f\"Vogal '{letra}' encontrada no índice {indice}\")\n"
   ]
  },
  {
   "cell_type": "markdown",
   "id": "8d46663f",
   "metadata": {},
   "source": [
    "### Q3.\n",
    "\n",
    "Escreva uma função em Python chamada ```ordenar_tuplas``` que recebe uma lista de tuplas, cada uma contendo o nome de um aluno e sua respectiva média, e retorna uma nova lista ordenada em ordem decrescente de médias."
   ]
  },
  {
   "cell_type": "code",
   "execution_count": null,
   "id": "469f2e6e",
   "metadata": {},
   "outputs": [],
   "source": [
    "# Implemente aqui a função ordenar_tuplas\n",
    "\n",
    "def ordenar_tuplas(lista_tuplas):\n",
    "    # Ordenando a lista de tuplas pela segunda posição (a média) em ordem decrescente\n",
    "    return sorted(lista_tuplas, key=lambda x: x[1], reverse=True)\n",
    "\n",
    "# Exemplo de uso\n",
    "alunos_notas = [('Alice', 8.5), ('Bob', 7.2), ('Charlie', 9.0), ('David', 8.8)]\n",
    "resultado = ordenar_tuplas(alunos_notas)\n",
    "print(resultado)  # Saída esperada: [('Charlie', 9.0), ('David', 8.8), ('Alice', 8.5), ('Bob', 7.2)]\n"
   ]
  },
  {
   "cell_type": "code",
   "execution_count": null,
   "id": "1972c62b",
   "metadata": {},
   "outputs": [],
   "source": [
    "# Exemplo de uso\n",
    "alunos_notas = [('Alice', 8.5), ('Bob', 7.2), ('Charlie', 9.0), ('David', 8.8)]\n",
    "resultado = ordenar_tuplas(alunos_notas)\n",
    "print(resultado)  # Saída esperada: [('Charlie', 9.0), ('David', 8.8), ('Alice', 8.5), ('Bob', 7.2)]"
   ]
  },
  {
   "cell_type": "markdown",
   "id": "e0268fae",
   "metadata": {},
   "source": [
    "### Q4.\n",
    "\n",
    "Escreva uma função em Python chamada ```comprimir_tuplas``` que recebe uma lista de tuplas, cada uma contendo uma palavra e um número, e retorna uma nova lista de tuplas onde palavras idênticas são agrupadas e seus números são somados.\n",
    "\n"
   ]
  },
  {
   "cell_type": "code",
   "execution_count": null,
   "id": "30a221f3",
   "metadata": {},
   "outputs": [],
   "source": [
    "# Implemente aqui a função comprimir_tuplas\n",
    "\n",
    "from collections import defaultdict\n",
    "\n",
    "def comprimir_tuplas(lista_tuplas):\n",
    "    # Criando um dicionário para somar os valores das palavras iguais\n",
    "    contador = defaultdict(int)\n",
    "    for palavra, numero in lista_tuplas:\n",
    "        contador[palavra] += numero\n",
    "    # Convertendo o dicionário de volta para uma lista de tuplas\n",
    "    return list(contador.items())\n",
    "\n"
   ]
  },
  {
   "cell_type": "code",
   "execution_count": null,
   "id": "80972bac",
   "metadata": {},
   "outputs": [],
   "source": [
    "# Exemplo de uso\n",
    "tuplas_originais = [('maçã', 3), ('banana', 2), ('maçã', 5), ('laranja', 1), ('banana', 3)]\n",
    "resultado = comprimir_tuplas(tuplas_originais)\n",
    "print(resultado)  # Saída esperada: [('maçã', 8), ('banana', 5), ('laranja', 1)]"
   ]
  },
  {
   "cell_type": "markdown",
   "id": "649a5082",
   "metadata": {},
   "source": [
    "### Q5. \n",
    "\n",
    "- Escreva um script que peça o nome e a idade de todos na fila de uma balada. Crie uma lista de tuplas com os pares ```(nome, idade)``` de cada um. \n",
    "- Em seguida crie e imprima duas tuplas apenas com os nomes, uma com os menores de idade que não poderão entrar, e uma com os maiores de idade (```idade >= 18```). \n",
    "\n"
   ]
  },
  {
   "cell_type": "code",
   "execution_count": null,
   "id": "47cb0573",
   "metadata": {},
   "outputs": [],
   "source": [
    "## Implemente aqui sua solução\n",
    "\n",
    "def classificar_pessoas_fila():\n",
    "    # Pedindo a quantidade de pessoas na fila\n",
    "    qtd_pessoas = int(input(\"Quantas pessoas estão na fila? \"))\n",
    "    fila = []\n",
    "    \n",
    "    # Coletando os dados (nome, idade) para cada pessoa\n",
    "    for _ in range(qtd_pessoas):\n",
    "        nome = input(\"Nome: \")\n",
    "        idade = int(input(\"Idade: \"))\n",
    "        fila.append((nome, idade))\n",
    "    \n",
    "    # Separando os nomes de menores e maiores de idade\n",
    "    menores = tuple(nome for nome, idade in fila if idade < 18)\n",
    "    maiores = tuple(nome for nome, idade in fila if idade >= 18)\n",
    "    \n",
    "    print(\"Menores de idade:\", menores)\n",
    "    print(\"Maiores de idade:\", maiores)\n",
    "\n",
    "\n"
   ]
  }
 ],
 "metadata": {
  "kernelspec": {
   "display_name": "Python 3 (ipykernel)",
   "language": "python",
   "name": "python3"
  },
  "language_info": {
   "codemirror_mode": {
    "name": "ipython",
    "version": 3
   },
   "file_extension": ".py",
   "mimetype": "text/x-python",
   "name": "python",
   "nbconvert_exporter": "python",
   "pygments_lexer": "ipython3",
   "version": "3.9.6"
  }
 },
 "nbformat": 4,
 "nbformat_minor": 5
}
