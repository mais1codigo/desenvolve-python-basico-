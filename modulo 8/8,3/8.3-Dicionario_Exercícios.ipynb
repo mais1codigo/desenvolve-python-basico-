{
 "cells": [
  {
   "cell_type": "markdown",
   "id": "0d5035b5",
   "metadata": {},
   "source": [
    "# Dicionários\n",
    "\n",
    "## Aula 8.3"
   ]
  },
  {
   "cell_type": "markdown",
   "id": "0bdece85",
   "metadata": {},
   "source": [
    "### Q1. \n",
    "\n",
    "Escreva uma função em Python chamada ```contagem_caracteres``` que recebe uma string como parâmetro e retorna um dicionário onde as chaves são os caracteres presentes na string e os valores são a contagem de cada caractere.\n"
   ]
  },
  {
   "cell_type": "code",
   "execution_count": null,
   "id": "09a9845d",
   "metadata": {},
   "outputs": [],
   "source": [
    "# Implemente aqui a função contagem_caracteres\n",
    "\n",
    "def contagem_caracteres(string):\n",
    "    contagem = {}\n",
    "    for caractere in string:\n",
    "        if caractere in contagem:\n",
    "            contagem[caractere] += 1\n",
    "        else:\n",
    "            contagem[caractere] = 1\n",
    "    return contagem\n"
   ]
  },
  {
   "cell_type": "code",
   "execution_count": null,
   "id": "0a258eba",
   "metadata": {},
   "outputs": [],
   "source": [
    "# Exemplo de uso:\n",
    "frase = \"python programming\"\n",
    "resultado = contagem_caracteres(frase)\n",
    "print(resultado)\n",
    "# Saída esperada: {'p': 2, 'y': 1, 't': 1, 'h': 1, 'o': 2, 'n': 1, ' ': 1, 'r': 2, 'g': 2, 'a': 1, 'm': 2, 'i': 1}\n"
   ]
  },
  {
   "cell_type": "markdown",
   "id": "649a5082",
   "metadata": {},
   "source": [
    "### Q2. \n",
    "\n",
    "Baixe o arquivo contendo o roteiro do filme brasileiro \"Estômago\" e salve em seu computador com o nome \"estomago.txt\".\n",
    "\n",
    "https://aplauso.imprensaoficial.com.br/edicoes/12.0.813.502/12.0.813.502.txt\n",
    "\n",
    "- Escreva um script python que abre o arquivo de texto e cria um dicionário contando a quantidade de vezes que cada palavra aparece no texto.\n",
    "- Em seguida ordene o dicionário de forma decrescente pelos valores. Dessa maneira ele irá apresentar as palavras mais frequentes no início.\n",
    "- Apresente na tela o dicionário ordenado\n"
   ]
  },
  {
   "cell_type": "code",
   "execution_count": null,
   "id": "47cb0573",
   "metadata": {},
   "outputs": [],
   "source": [
    "# Implemente aqui sua solução\n",
    "\n",
    "import string\n",
    "\n",
    "def contagem_palavras_arquivo(nome_arquivo):\n",
    "    with open(nome_arquivo, 'r', encoding='utf-8') as arquivo:\n",
    "        texto = arquivo.read().lower()\n",
    "    \n",
    "    # Removendo pontuações\n",
    "    texto = texto.translate(str.maketrans(\"\", \"\", string.punctuation))\n",
    "    \n",
    "    palavras = texto.split()\n",
    "    contagem_palavras = {}\n",
    "    \n",
    "    for palavra in palavras:\n",
    "        if palavra in contagem_palavras:\n",
    "            contagem_palavras[palavra] += 1\n",
    "        else:\n",
    "            contagem_palavras[palavra] = 1\n",
    "    \n",
    "    # Ordenando o dicionário pela quantidade de ocorrências (valores)\n",
    "    contagem_ordenada = dict(sorted(contagem_palavras.items(), key=lambda item: item[1], reverse=True))\n",
    "    \n",
    "    return contagem_ordenada\n"
   ]
  },
  {
   "cell_type": "markdown",
   "id": "bb62d219",
   "metadata": {},
   "source": [
    "### Q3. \n",
    "\n",
    "Crie uma função chamada ```mesclar_dicionarios``` que recebe dois dicionários como parâmetros e retorna um novo dicionário contendo a fusão dos dois. Se houver chaves comuns, o maior valor deve prevalecer."
   ]
  },
  {
   "cell_type": "code",
   "execution_count": null,
   "id": "f4363612",
   "metadata": {},
   "outputs": [],
   "source": [
    "# Implemente aqui a função mesclar_dicionarios\n",
    "\n",
    "def mesclar_dicionarios(dic1, dic2):\n",
    "    resultado = dic1.copy()  # Copiando o primeiro dicionário\n",
    "    for chave, valor in dic2.items():\n",
    "        # Se a chave existir em ambos, usa o maior valor\n",
    "        if chave in resultado:\n",
    "            resultado[chave] = max(resultado[chave], valor)\n",
    "        else:\n",
    "            resultado[chave] = valor\n",
    "    return resultado\n",
    "\n"
   ]
  },
  {
   "cell_type": "code",
   "execution_count": null,
   "id": "add41556",
   "metadata": {},
   "outputs": [],
   "source": [
    "\n",
    "# Exemplo de uso:\n",
    "dicionario1 = {'a': 1, 'b': 2, 'c': 3}\n",
    "dicionario2 = {'b': 4, 'd': 5}\n",
    "resultado = mesclar_dicionarios(dicionario1, dicionario2)\n",
    "print(resultado)  # Saída esperada: {'a': 1, 'b': 4, 'c': 3, 'd': 5}"
   ]
  },
  {
   "cell_type": "markdown",
   "id": "8710b1a7",
   "metadata": {},
   "source": [
    "### Q4.\n",
    "\n",
    "Desenvolva uma função em Python chamada ```filtrar_dicionario``` que recebe um dicionário e uma lista de chaves como parâmetros e retorna um novo dicionário contendo apenas as chaves que estão presentes na lista."
   ]
  },
  {
   "cell_type": "code",
   "execution_count": null,
   "id": "0b7ee921",
   "metadata": {},
   "outputs": [],
   "source": [
    "# Implemente aqui a função filtrar_dicionario\n",
    "\n",
    "def filtrar_dicionario(dic, chaves):\n",
    "    return {chave: dic[chave] for chave in chaves if chave in dic}\n",
    "\n",
    "\n"
   ]
  },
  {
   "cell_type": "code",
   "execution_count": null,
   "id": "ebc131f6",
   "metadata": {},
   "outputs": [],
   "source": [
    "# Exemplo de uso:\n",
    "dados = {'a': 1, 'b': 2, 'c': 3, 'd': 4, 'e': 5}\n",
    "chaves_filtradas = ['a', 'c', 'e']\n",
    "resultado = filtrar_dicionario(dados, chaves_filtradas)\n",
    "print(resultado)  # Saída esperada: {'a': 1, 'c': 3, 'e': 5}"
   ]
  },
  {
   "cell_type": "markdown",
   "id": "3203c51e",
   "metadata": {},
   "source": [
    "### Q5.\n",
    "\n",
    "Você está responsável por analisar os resultados de uma votação. Cada voto é representado por um dicionário com o nome do candidato e a quantidade de votos que recebeu em uma determinada sessão eleitoral. Escreva uma função chamada ```resultado_votacao``` que recebe uma lista de dicionários de votos e retorna um dicionário onde as chaves são os nomes dos candidatos, e os valores são tuplas ```(total, percentual)``` com o total de votos recebidos por cada candidato e o percentual em relação à soma total de votos em todos os candidatos. "
   ]
  },
  {
   "cell_type": "code",
   "execution_count": null,
   "id": "2c856eee",
   "metadata": {},
   "outputs": [],
   "source": [
    "# Implemente aqui a função resultado_votacao\n",
    "\n",
    "def resultado_votacao(lista_votos):\n",
    "    total_votos_candidatos = {}\n",
    "    total_votos = 0\n",
    "    \n",
    "    # Somando os votos para cada candidato\n",
    "    for sessao in lista_votos:\n",
    "        for candidato, votos in sessao.items():\n",
    "            if candidato in total_votos_candidatos:\n",
    "                total_votos_candidatos[candidato] += votos\n",
    "            else:\n",
    "                total_votos_candidatos[candidato] = votos\n",
    "            total_votos += votos\n",
    "    \n",
    "    # Calculando o percentual de votos\n",
    "    resultado_final = {}\n",
    "    for candidato, total in total_votos_candidatos.items():\n",
    "        percentual = (total / total_votos) * 100\n",
    "        resultado_final[candidato] = (total, round(percentual, 2))\n",
    "    \n",
    "    return resultado_final\n",
    "\n"
   ]
  },
  {
   "cell_type": "code",
   "execution_count": null,
   "id": "ff2044de",
   "metadata": {},
   "outputs": [],
   "source": [
    "## Exemplo de uso:\n",
    "votos = [\n",
    "    {'candidato_A': 120, 'candidato_B': 85, 'candidato_C': 90},\n",
    "    {'candidato_A': 110, 'candidato_B': 95, 'candidato_C': 80},\n",
    "    {'candidato_A': 130, 'candidato_B': 78, 'candidato_C': 105},\n",
    "]\n",
    "resultado = resultado_votacao(votos)\n",
    "print(resultado)  \n",
    "# Saída esperada: {'candidato_A': (360, 40.31), 'candidato_B': (258, 28.89), 'candidato_C': (275, 30.79)}\n"
   ]
  }
 ],
 "metadata": {
  "kernelspec": {
   "display_name": "Python 3 (ipykernel)",
   "language": "python",
   "name": "python3"
  },
  "language_info": {
   "codemirror_mode": {
    "name": "ipython",
    "version": 3
   },
   "file_extension": ".py",
   "mimetype": "text/x-python",
   "name": "python",
   "nbconvert_exporter": "python",
   "pygments_lexer": "ipython3",
   "version": "3.9.6"
  }
 },
 "nbformat": 4,
 "nbformat_minor": 5
}
